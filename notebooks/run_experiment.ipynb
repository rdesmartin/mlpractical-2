{
 "cells": [
  {
   "cell_type": "code",
   "execution_count": 2,
   "id": "8cbdae79-4aca-42d0-85cd-aaab4569fdc4",
   "metadata": {},
   "outputs": [
    {
     "name": "stdout",
     "output_type": "stream",
     "text": [
      "Namespace(batch_size=100, block_type='bnrcconv_block', continue_from_epoch=-1, experiment_name='VGG_38_BNRC', image_height=32, image_num_channels=3, image_width=32, num_blocks_per_stage=5, num_classes=100, num_epochs=100, num_filters=32, num_stages=3, seed=0, use_gpu=True, weight_decay_coefficient=0)\n",
      "Downloading https://www.cs.toronto.edu/~kriz/cifar-100-python.tar.gz to data/cifar-100-python.tar.gz\n",
      "100%|███████████████████████| 169001437/169001437 [00:05<00:00, 31685700.46it/s]\n",
      "^C\n",
      "Traceback (most recent call last):\n",
      "  File \"../pytorch_mlp_framework/train_evaluate_image_classification_system.py\", line 32, in <module>\n",
      "    download=True)  # initialize our rngs using the argument set seed\n",
      "  File \"/home/jupyter/mlpractical-2/mlp/data_providers.py\", line 582, in __init__\n",
      "    self.download()\n",
      "  File \"/home/jupyter/mlpractical-2/mlp/data_providers.py\", line 709, in download\n",
      "    download_url(self.url, root, self.filename, self.tgz_md5)\n",
      "  File \"/opt/conda/lib/python3.7/site-packages/torchvision/datasets/utils.py\", line 166, in download_url\n",
      "    if not check_integrity(fpath, md5):\n",
      "  File \"/opt/conda/lib/python3.7/site-packages/torchvision/datasets/utils.py\", line 86, in check_integrity\n",
      "    return check_md5(fpath, md5)\n",
      "  File \"/opt/conda/lib/python3.7/site-packages/torchvision/datasets/utils.py\", line 78, in check_md5\n",
      "    return md5 == calculate_md5(fpath, **kwargs)\n",
      "  File \"/opt/conda/lib/python3.7/site-packages/torchvision/datasets/utils.py\", line 73, in calculate_md5\n",
      "    md5.update(chunk)\n",
      "KeyboardInterrupt\n"
     ]
    }
   ],
   "source": [
    "!python ../pytorch_mlp_framework/train_evaluate_image_classification_system.py --batch_size 100 --seed 0 --num_filters 32 --num_stages 3 --num_blocks_per_stage 5 --experiment_name VGG_38_BNRC --use_gpu True --num_classes 100 --block_type 'bnrcconv_block' --continue_from_epoch -1"
   ]
  }
 ],
 "metadata": {
  "environment": {
   "kernel": "python3",
   "name": "pytorch-gpu.1-12.m100",
   "type": "gcloud",
   "uri": "gcr.io/deeplearning-platform-release/pytorch-gpu.1-12:m100"
  },
  "kernelspec": {
   "display_name": "Python 3",
   "language": "python",
   "name": "python3"
  },
  "language_info": {
   "codemirror_mode": {
    "name": "ipython",
    "version": 3
   },
   "file_extension": ".py",
   "mimetype": "text/x-python",
   "name": "python",
   "nbconvert_exporter": "python",
   "pygments_lexer": "ipython3",
   "version": "3.7.12"
  }
 },
 "nbformat": 4,
 "nbformat_minor": 5
}
